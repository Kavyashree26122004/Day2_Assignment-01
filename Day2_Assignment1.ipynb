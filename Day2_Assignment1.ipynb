{
  "nbformat": 4,
  "nbformat_minor": 0,
  "metadata": {
    "colab": {
      "provenance": []
    },
    "kernelspec": {
      "name": "python3",
      "display_name": "Python 3"
    },
    "language_info": {
      "name": "python"
    }
  },
  "cells": [
    {
      "cell_type": "code",
      "execution_count": 1,
      "metadata": {
        "colab": {
          "base_uri": "https://localhost:8080/"
        },
        "id": "ZyeQ2QIgoNoe",
        "outputId": "f3650eba-932a-4f94-bad8-a9fd745f5ada"
      },
      "outputs": [
        {
          "output_type": "stream",
          "name": "stdout",
          "text": [
            " 1.WAP to add 50 and 60 to L. \n",
            "[11, 12, 13, 14, 50, 60]\n",
            "[12, 14, 50, 60]\n",
            "[12, 14, 50, 60]\n",
            "[60, 50, 14, 12]\n",
            "\n",
            "[60, 50, 14, 12]\n",
            "[60, 50, 14, 12]\n",
            "[60, 50, 14, 12]\n",
            "[60, 50, 14, 12]\n",
            "[60, 50, 14, 12]\n",
            "[60, 50, 14, 12]\n",
            "[]\n"
          ]
        }
      ],
      "source": [
        "print (\" 1.WAP to add 50 and 60 to L. \")\n",
        "L = [11, 12, 13, 14]\n",
        "L.append(50)\n",
        "L.append(60)\n",
        "print(L)\n",
        "\n",
        "L.remove(11)\n",
        "L.remove(13)\n",
        "print(L)\n",
        "\n",
        "L.sort()\n",
        "print (L)\n",
        "\n",
        "L.sort(reverse=True)\n",
        "print(L)\n",
        "print()\n",
        "\n",
        "search_result = 13 in L\n",
        "print(L)\n",
        "\n",
        "count_elements = len(L)\n",
        "print(L)\n",
        "\n",
        "sum_elements = sum(L)\n",
        "print(L)\n",
        "\n",
        "sum_odd = sum(x for x in L if x % 2 != 0)\n",
        "print(L)\n",
        "\n",
        "sum_even = sum(x for x in L if x % 2 == 0)\n",
        "print(L)\n",
        "\n",
        "def is_prime(n):\n",
        "    if n <= 1:\n",
        "        return False\n",
        "    for i in range(2, int(n**0.5) + 1):\n",
        "        if n % i == 0:\n",
        "            return False\n",
        "    return True\n",
        "\n",
        "sum_prime = sum(x for x in L if is_prime(x))\n",
        "\n",
        "print(L)\n",
        "\n",
        "L.clear()\n",
        "print(L)\n",
        "\n",
        "del L"
      ]
    },
    {
      "cell_type": "code",
      "source": [
        "D = {1: 5.6, 2: 7.8, 3: 6.6, 4: 8.7, 5: 7.7}\n",
        "\n",
        "D[8] = 8.8\n",
        "print(D)\n",
        "\n",
        "\n",
        "if 2 in D:\n",
        "    del D[2]\n",
        "print(D)\n",
        "\n",
        "\n",
        "key_present = 6 in D\n",
        "print(D)\n",
        "\n",
        "\n",
        "count_elements = len(D)\n",
        "print(D)\n",
        "\n",
        "\n",
        "sum_values = sum(D.values())\n",
        "print(D)\n",
        "\n",
        "\n",
        "D[3] = 7.1\n",
        "print(D)\n",
        "\n",
        "D.clear()\n",
        "print(D)"
      ],
      "metadata": {
        "colab": {
          "base_uri": "https://localhost:8080/"
        },
        "id": "WRU6-bVEoo2r",
        "outputId": "05224b0b-88e8-456e-d987-1241df40a05d"
      },
      "execution_count": 2,
      "outputs": [
        {
          "output_type": "stream",
          "name": "stdout",
          "text": [
            "{1: 5.6, 2: 7.8, 3: 6.6, 4: 8.7, 5: 7.7, 8: 8.8}\n",
            "{1: 5.6, 3: 6.6, 4: 8.7, 5: 7.7, 8: 8.8}\n",
            "{1: 5.6, 3: 6.6, 4: 8.7, 5: 7.7, 8: 8.8}\n",
            "{1: 5.6, 3: 6.6, 4: 8.7, 5: 7.7, 8: 8.8}\n",
            "{1: 5.6, 3: 6.6, 4: 8.7, 5: 7.7, 8: 8.8}\n",
            "{1: 5.6, 3: 7.1, 4: 8.7, 5: 7.7, 8: 8.8}\n",
            "{}\n"
          ]
        }
      ]
    },
    {
      "cell_type": "code",
      "source": [
        "\n",
        "\n",
        "S1 = {10, 20, 30, 40, 50, 60}\n",
        "S2 = {40, 50, 60, 70, 80, 90}\n",
        "\n",
        "\n",
        "S1.add(55)\n",
        "S1.add(66)\n",
        "print(S1)\n",
        "print()\n",
        "\n",
        "S1.discard(10)\n",
        "S1.discard(30)\n",
        "print(S1)\n",
        "print()\n",
        "\n",
        "is_present = 40 in S1\n",
        "print(is_present)\n",
        "print()\n",
        "\n",
        "union_set = S1.union(S2)\n",
        "print(union_set)\n",
        "print()\n",
        "\n",
        "\n",
        "intersection_set = S1.intersection(S2)\n",
        "print(intersection_set)\n",
        "print()\n",
        "\n"
      ],
      "metadata": {
        "colab": {
          "base_uri": "https://localhost:8080/"
        },
        "id": "zShVrO6YoyVb",
        "outputId": "a1bbe57e-16e7-45b4-d9b4-1ea3df378633"
      },
      "execution_count": 3,
      "outputs": [
        {
          "output_type": "stream",
          "name": "stdout",
          "text": [
            "{50, 66, 20, 55, 40, 10, 60, 30}\n",
            "\n",
            "{50, 66, 20, 55, 40, 60}\n",
            "\n",
            "True\n",
            "\n",
            "{66, 70, 40, 80, 50, 20, 55, 90, 60}\n",
            "\n",
            "{40, 50, 60}\n",
            "\n"
          ]
        }
      ]
    },
    {
      "cell_type": "code",
      "source": [
        "import random\n",
        "import string\n",
        "\n",
        "def generate_random_string(length):\n",
        "    return ''.join(random.choice(string.ascii_letters) for _ in range(length))\n",
        "\n",
        "random_strings = [generate_random_string(random.randint(6, 8)) for _ in range(100)]\n",
        "\n",
        "for s in random_strings:\n",
        "    print(s)\n",
        "print()\n",
        "\n",
        "def is_prime(n):\n",
        "    if n <= 1:\n",
        "        return False\n",
        "    for i in range(2, int(n**0.5) + 1):\n",
        "        if n % i == 0:\n",
        "            return False\n",
        "    return True\n",
        "\n",
        "prime_numbers = [n for n in range(600, 801) if is_prime(n)]\n",
        "\n",
        "for prime in prime_numbers:\n",
        "    print(prime)\n",
        "print()\n",
        "\n",
        "\n",
        "divisible_numbers = [n for n in range(100, 1001) if n % 7 == 0 and n % 9 == 0]\n",
        "\n",
        "for number in divisible_numbers:\n",
        "    print(number)\n",
        "print()"
      ],
      "metadata": {
        "colab": {
          "base_uri": "https://localhost:8080/"
        },
        "id": "qY0PxA2OozDx",
        "outputId": "72a30df2-60ea-43f2-857c-27d2cc4120cf"
      },
      "execution_count": 5,
      "outputs": [
        {
          "output_type": "stream",
          "name": "stdout",
          "text": [
            "hkVjYH\n",
            "GhdEelL\n",
            "cCHSPbC\n",
            "IcjkGp\n",
            "gwVZqvhG\n",
            "BAQhpip\n",
            "SVLRmM\n",
            "HPnOkGf\n",
            "tGYfTa\n",
            "GZDcGt\n",
            "iYjmji\n",
            "sqDFCE\n",
            "INXUvS\n",
            "mxgThI\n",
            "ZNEwIWj\n",
            "sRLqpWAg\n",
            "ZpKfrfkG\n",
            "CYCOzy\n",
            "DeoDTHIl\n",
            "qanfgyuB\n",
            "SGjbCVn\n",
            "rvnkWH\n",
            "BleVtAq\n",
            "inIpuOw\n",
            "IOaIem\n",
            "zouwrTz\n",
            "wwrGzZGi\n",
            "kplKDEZT\n",
            "lwstcZ\n",
            "EWvKXvO\n",
            "ZvtfuDcS\n",
            "wKwfed\n",
            "zbFwQl\n",
            "sTiqcB\n",
            "gwDAlo\n",
            "AZpiuRY\n",
            "AtzCPy\n",
            "hpPHbc\n",
            "oViaAvR\n",
            "fgalrmg\n",
            "XpExaMb\n",
            "EILQFlV\n",
            "hWsEeka\n",
            "pUPnnd\n",
            "nkKhBX\n",
            "ZODchIB\n",
            "KBKKDaay\n",
            "slxeWeVp\n",
            "DdqPZfuF\n",
            "vkWbFUcX\n",
            "gQbVTZGa\n",
            "GHytzfqN\n",
            "DCGdGe\n",
            "ksvjyZkq\n",
            "jjDvyZaI\n",
            "DJTNBb\n",
            "SAxhRSR\n",
            "gjdeJsz\n",
            "FVuJHVj\n",
            "LSQdSj\n",
            "udfzmvkL\n",
            "JkdZopb\n",
            "jnlHXRb\n",
            "bIzsDwL\n",
            "qsQwlUT\n",
            "OFBvjhT\n",
            "AaTWJnM\n",
            "tXDjmK\n",
            "ChHWnAY\n",
            "EVaDxJh\n",
            "uSJTLInR\n",
            "Wiafjg\n",
            "IpRVijv\n",
            "REYGXc\n",
            "GGtXmRq\n",
            "paxlLHK\n",
            "ZnGUVXEz\n",
            "nIYLSIN\n",
            "mtZijLb\n",
            "KrUYeWA\n",
            "gzoylTjN\n",
            "ZfwtUDe\n",
            "kqdwEijm\n",
            "NvbdfcaE\n",
            "uAeimB\n",
            "wQsgyO\n",
            "LMQontVR\n",
            "iFmAVqm\n",
            "yGaFTAk\n",
            "ACryhUHT\n",
            "YZvGFouA\n",
            "oYroUH\n",
            "mDoeJKz\n",
            "rzDmqfjn\n",
            "fbEpgKSh\n",
            "IQfmelL\n",
            "jetnzOiB\n",
            "xrtCgKEh\n",
            "QsCrIlaP\n",
            "CWBkDZT\n",
            "\n",
            "601\n",
            "607\n",
            "613\n",
            "617\n",
            "619\n",
            "631\n",
            "641\n",
            "643\n",
            "647\n",
            "653\n",
            "659\n",
            "661\n",
            "673\n",
            "677\n",
            "683\n",
            "691\n",
            "701\n",
            "709\n",
            "719\n",
            "727\n",
            "733\n",
            "739\n",
            "743\n",
            "751\n",
            "757\n",
            "761\n",
            "769\n",
            "773\n",
            "787\n",
            "797\n",
            "\n",
            "126\n",
            "189\n",
            "252\n",
            "315\n",
            "378\n",
            "441\n",
            "504\n",
            "567\n",
            "630\n",
            "693\n",
            "756\n",
            "819\n",
            "882\n",
            "945\n",
            "\n"
          ]
        }
      ]
    },
    {
      "cell_type": "code",
      "source": [
        "import random\n",
        "list1 = [random.randint(10, 30) for _ in range(10)]\n",
        "list2 = [random.randint(10, 30) for _ in range(10)]\n",
        "print(f\"List 1: {list1}\")\n",
        "print(f\"List 2: {list2}\")\n",
        "print()\n",
        "\n",
        "\n",
        "common_numbers = list(set(list1) & set(list2))\n",
        "print(f\"Common numbers: {common_numbers}\")\n",
        "print()\n",
        "\n",
        "unique_numbers = list(set(list1) ^ set(list2))\n",
        "print(f\"Unique numbers: {unique_numbers}\")\n",
        "print()\n",
        "\n",
        "print()\n",
        "min_list1 = min(list1)\n",
        "min_list2 = min(list2)\n",
        "print(f\"Minimum in list 1: {min_list1}\")\n",
        "print(f\"Minimum in list 2: {min_list2}\")\n",
        "print()\n",
        "\n",
        "\n",
        "max_list1 = max(list1)\n",
        "max_list2 = max(list2)\n",
        "print(f\"Maximum in list 1: {max_list1}\")\n",
        "print(f\"Maximum in list 2: {max_list2}\")\n",
        "print()\n",
        "\n",
        "\n",
        "sum_list1 = sum(list1)\n",
        "sum_list2 = sum(list2)\n",
        "print(f\"Sum of list 1: {sum_list1}\")\n",
        "print(f\"Sum of list 2: {sum_list2}\")\n",
        "print()"
      ],
      "metadata": {
        "colab": {
          "base_uri": "https://localhost:8080/"
        },
        "id": "TnSrf59spV9N",
        "outputId": "26eede29-c5bc-45a3-9538-4d77768f33eb"
      },
      "execution_count": 6,
      "outputs": [
        {
          "output_type": "stream",
          "name": "stdout",
          "text": [
            "List 1: [21, 10, 22, 26, 21, 20, 20, 20, 24, 23]\n",
            "List 2: [28, 30, 21, 15, 24, 12, 18, 24, 30, 27]\n",
            "\n",
            "Common numbers: [24, 21]\n",
            "\n",
            "Unique numbers: [10, 12, 15, 18, 20, 22, 23, 26, 27, 28, 30]\n",
            "\n",
            "\n",
            "Minimum in list 1: 10\n",
            "Minimum in list 2: 12\n",
            "\n",
            "Maximum in list 1: 26\n",
            "Maximum in list 2: 30\n",
            "\n",
            "Sum of list 1: 207\n",
            "Sum of list 2: 229\n",
            "\n"
          ]
        }
      ]
    },
    {
      "cell_type": "code",
      "source": [],
      "metadata": {
        "id": "sdI2taX5pyG3"
      },
      "execution_count": null,
      "outputs": []
    },
    {
      "cell_type": "code",
      "source": [
        "\n",
        "import random\n",
        "random_numbers = [random.randint(100, 900) for _ in range(100)]\n",
        "def is_prime(n):\n",
        "    if n <= 1:\n",
        "        return False\n",
        "    for i in range(2, int(n**0.5) + 1):\n",
        "        if n % i == 0:\n",
        "            return False\n",
        "    return True\n",
        "\n",
        "print(f\"List of 100 random numbers: {random_numbers}\")\n",
        "print()\n",
        "\n",
        "\n",
        "odd_numbers = [num for num in random_numbers if num % 2 != 0]\n",
        "print(f\"Odd numbers ({len(odd_numbers)}): {odd_numbers}\")\n",
        "print()\n",
        "\n",
        "\n",
        "even_numbers = [num for num in random_numbers if num % 2 == 0]\n",
        "print(f\"Even numbers ({len(even_numbers)}): {even_numbers}\")\n",
        "print()\n",
        "\n",
        "prime_numbers = [num for num in random_numbers if is_prime(num)]\n",
        "print(f\"Prime numbers ({len(prime_numbers)}): {prime_numbers}\")\n",
        "print()\n"
      ],
      "metadata": {
        "colab": {
          "base_uri": "https://localhost:8080/"
        },
        "id": "S_6NsEnoCm5K",
        "outputId": "638a58d4-dd07-4d6b-e2d7-a82912184bd5"
      },
      "execution_count": 7,
      "outputs": [
        {
          "output_type": "stream",
          "name": "stdout",
          "text": [
            "List of 100 random numbers: [435, 543, 637, 595, 332, 745, 251, 547, 548, 189, 651, 380, 491, 411, 605, 305, 301, 382, 389, 173, 452, 732, 839, 412, 538, 159, 665, 761, 236, 848, 537, 554, 183, 659, 666, 843, 414, 666, 735, 717, 814, 555, 840, 803, 680, 715, 103, 441, 402, 103, 552, 619, 475, 625, 703, 513, 490, 793, 214, 760, 676, 105, 736, 183, 219, 791, 343, 715, 326, 445, 104, 515, 180, 358, 392, 832, 473, 124, 172, 872, 711, 552, 408, 660, 116, 824, 250, 555, 569, 400, 896, 455, 104, 706, 408, 545, 863, 341, 257, 319]\n",
            "\n",
            "Odd numbers (56): [435, 543, 637, 595, 745, 251, 547, 189, 651, 491, 411, 605, 305, 301, 389, 173, 839, 159, 665, 761, 537, 183, 659, 843, 735, 717, 555, 803, 715, 103, 441, 103, 619, 475, 625, 703, 513, 793, 105, 183, 219, 791, 343, 715, 445, 515, 473, 711, 555, 569, 455, 545, 863, 341, 257, 319]\n",
            "\n",
            "Even numbers (44): [332, 548, 380, 382, 452, 732, 412, 538, 236, 848, 554, 666, 414, 666, 814, 840, 680, 402, 552, 490, 214, 760, 676, 736, 326, 104, 180, 358, 392, 832, 124, 172, 872, 552, 408, 660, 116, 824, 250, 400, 896, 104, 706, 408]\n",
            "\n",
            "Prime numbers (14): [251, 547, 491, 389, 173, 839, 761, 659, 103, 103, 619, 569, 863, 257]\n",
            "\n"
          ]
        }
      ]
    },
    {
      "cell_type": "code",
      "source": [],
      "metadata": {
        "id": "Kc3v6N9Kp5wJ"
      },
      "execution_count": null,
      "outputs": []
    },
    {
      "cell_type": "code",
      "source": [
        "\n",
        "D = {1: \"One\", 2: \"Two\", 3: \"Three\", 4: \"Four\", 5: \"Five\"}\n",
        "print(D)\n",
        "print()\n",
        "\n",
        "\n",
        "with open('output.txt', 'w') as file:\n",
        "\n",
        "    for key, value in D.items():\n",
        "        file.write(f\"Key{key}, Value{value}\\n\")\n",
        "\n",
        "\n",
        "with open('output.txt', 'r') as file:\n",
        "    contents = file.read()\n",
        "    print(contents)\n",
        "\n"
      ],
      "metadata": {
        "colab": {
          "base_uri": "https://localhost:8080/"
        },
        "id": "Opi1to50EsZj",
        "outputId": "56a9686a-9f2d-4def-97ee-e3cd2d556852"
      },
      "execution_count": 8,
      "outputs": [
        {
          "output_type": "stream",
          "name": "stdout",
          "text": [
            "{1: 'One', 2: 'Two', 3: 'Three', 4: 'Four', 5: 'Five'}\n",
            "\n",
            "Key1, ValueOne\n",
            "Key2, ValueTwo\n",
            "Key3, ValueThree\n",
            "Key4, ValueFour\n",
            "Key5, ValueFive\n",
            "\n"
          ]
        }
      ]
    },
    {
      "cell_type": "code",
      "source": [
        "import random\n",
        "import string\n",
        "\n",
        "\n",
        "def generate_random_string(length):\n",
        "    return ''.join(random.choice(string.ascii_letters + string.digits) for _ in range(length))\n",
        "\n",
        "\n",
        "with open('random_strings.txt', 'w') as file:\n",
        "\n",
        "    for _ in range(100):\n",
        "        length = random.randint(10, 15)\n",
        "        random_string = generate_random_string(length)\n",
        "        file.write(random_string + '\\n')\n",
        "\n",
        "\n",
        "with open('random_strings.txt', 'r') as file:\n",
        "    contents = file.read()\n",
        "    print(contents)"
      ],
      "metadata": {
        "colab": {
          "base_uri": "https://localhost:8080/"
        },
        "id": "P6PKxjDwp-Bt",
        "outputId": "ddb88969-e64d-4a7b-a672-5098d1c8537e"
      },
      "execution_count": 9,
      "outputs": [
        {
          "output_type": "stream",
          "name": "stdout",
          "text": [
            "ATIEuCVYaZv0\n",
            "I4Vot84oij0\n",
            "LcwRPqP1pP\n",
            "DLqd8K1rOqIRTOE\n",
            "5WGFvEv0FSUlc\n",
            "slNFHxz2PX\n",
            "ruFa64hBjPJyUJ\n",
            "c6WLlzqrLhlCJ2A\n",
            "gBLoYuyTtPA8grn\n",
            "1bnRokhM4kZ\n",
            "7AjgUkFVdDllU1\n",
            "nefOjKcqUA3C\n",
            "rpQocmwpySOPPP\n",
            "SX8hIFr5gT9iMZ\n",
            "aipswqeGA6xF9Q\n",
            "syprYBziogpBxF\n",
            "7Ht17m82GE9y\n",
            "4ko10io9wt4I2LP\n",
            "PT3w6uQ5KrEv\n",
            "X83NfaNqBDZ\n",
            "rre3QYREOB\n",
            "BRDyGFKkexW5X\n",
            "FB9rXVZL3DV\n",
            "uB8lXfHReh1q6\n",
            "29vRLQDXFUx9S\n",
            "S3gd4ogY8l1LW\n",
            "TDQRN80pyvdoD\n",
            "Sw8yoUrRgVoEz40\n",
            "WbNXM4M3uZNLbNY\n",
            "rACpDCsYp0b\n",
            "pAZhBNOw2M\n",
            "kaV2ldBQi87m\n",
            "olPOMM5wxQ\n",
            "fw5VT5WtY3y5dSf\n",
            "ooIEs0Krf478G5f\n",
            "ykeLEGMW4xH4f\n",
            "Bso7iOL1bI\n",
            "rDzsXqdqykb\n",
            "Ci9OzGRqZPKF\n",
            "zFpjQKhc5I1ZwL\n",
            "gOqi8saWCRCS\n",
            "kqFjGILgMX\n",
            "4vt2YYIrlMK90\n",
            "CJHbSb3qW1pntz6\n",
            "4Jg9AtM0ZO1\n",
            "diK9NxkEYKLW\n",
            "CVRLaqvFiA\n",
            "COrISHliDCq\n",
            "7GYg1q0NlfzUh\n",
            "rFNJYBi2vZDe6Ut\n",
            "jJtPcNfMFuSxiuI\n",
            "SW2kzoWeJM4u8\n",
            "jsS8eJcFMP\n",
            "Cxj2MNStys\n",
            "bUtKtRW5B05\n",
            "4jFBOPaSOs\n",
            "wQIssBmvJsT8c\n",
            "HtZSeZdQJUIhpfq\n",
            "ULgPAtI9fe7\n",
            "MxW60C0FVNMvDE\n",
            "vg7jtMteOuBgR\n",
            "37ZrvN4uYluZ646\n",
            "lSCZ73L52D\n",
            "gQJwPrOPyKWL\n",
            "0T5TMLYwlWeD\n",
            "ndBRMLCiAO\n",
            "rWSD1f3Kc1wzF3\n",
            "kYNu0gSOk7\n",
            "WkvAbKJvOjMjDWU\n",
            "tRmWRc5TPco7G\n",
            "xQ9x3cTJ9j4\n",
            "YMBfYDOQIkYA\n",
            "ZWNOFROUGrZ16\n",
            "QfhlD30Xd1auF\n",
            "vRq8jyjGvd\n",
            "sRW0m4rF1Nz47\n",
            "xEO5sYKFfcm\n",
            "aNgCaJVzjSft\n",
            "vWLxxEnDHDGoA\n",
            "Or5fZRdWA3\n",
            "KAgeiELfnY\n",
            "kzBUvvJKCp\n",
            "Y2TNAArOrYIB1P\n",
            "WRpfsh32JjE\n",
            "NmZTEwxR8AQzN\n",
            "Z879Hkjua5UAHf\n",
            "TrxWn24sBL\n",
            "MuKR1K3mjrE\n",
            "zVzFN3mlbXqn5Tq\n",
            "M4FfU4G9YN3\n",
            "2wdm4oCPZe2LK8L\n",
            "wfy7BStihDFj\n",
            "KCwOuS15LIwn7\n",
            "WDK8MPioqs9\n",
            "ZZlcuUi25H\n",
            "bGlg9ZMh2bDU4\n",
            "lmSSIyoGSZ\n",
            "vvKdH5xs12Qo\n",
            "GQft0aCQyB\n",
            "RajFMm2U7KZOSo3\n",
            "\n"
          ]
        }
      ]
    },
    {
      "cell_type": "code",
      "source": [
        "\n",
        "def is_prime(n):\n",
        "    if n <= 1:\n",
        "        return False\n",
        "    if n <= 3:\n",
        "        return True\n",
        "    if n % 2 == 0 or n % 3 == 0:\n",
        "        return False\n",
        "    i = 5\n",
        "    while i * i <= n:\n",
        "        if n % i == 0 or n % (i + 2) == 0:\n",
        "            return False\n",
        "        i += 6\n",
        "    return True\n",
        "\n",
        "\n",
        "with open('primes_600_to_800.txt', 'w') as file:\n",
        "    for number in range(600, 801):\n",
        "        if is_prime(number):\n",
        "            file.write(f\"{number}\\n\")\n",
        "\n",
        "with open('primes_600_to_800.txt', 'r') as file:\n",
        "    contents = file.read()\n",
        "    print(contents)"
      ],
      "metadata": {
        "colab": {
          "base_uri": "https://localhost:8080/"
        },
        "id": "LuwzEn65qRXH",
        "outputId": "227de361-efc3-43a1-b2bb-b625fb92c500"
      },
      "execution_count": 10,
      "outputs": [
        {
          "output_type": "stream",
          "name": "stdout",
          "text": [
            "601\n",
            "607\n",
            "613\n",
            "617\n",
            "619\n",
            "631\n",
            "641\n",
            "643\n",
            "647\n",
            "653\n",
            "659\n",
            "661\n",
            "673\n",
            "677\n",
            "683\n",
            "691\n",
            "701\n",
            "709\n",
            "719\n",
            "727\n",
            "733\n",
            "739\n",
            "743\n",
            "751\n",
            "757\n",
            "761\n",
            "769\n",
            "773\n",
            "787\n",
            "797\n",
            "\n"
          ]
        }
      ]
    },
    {
      "cell_type": "code",
      "source": [
        "import time\n",
        "start_time = time.time()\n",
        "for i in range(1000000):\n",
        "    pass\n",
        "\n",
        "end_time = time.time()\n",
        "elapsed_time = end_time - start_time\n",
        "print(f\"Time taken: {elapsed_time} seconds\")"
      ],
      "metadata": {
        "colab": {
          "base_uri": "https://localhost:8080/"
        },
        "id": "CFcaaoxdqVm9",
        "outputId": "0c69748a-33cb-4795-d8d0-1cc337c9c321"
      },
      "execution_count": 11,
      "outputs": [
        {
          "output_type": "stream",
          "name": "stdout",
          "text": [
            "Time taken: 0.05414772033691406 seconds\n"
          ]
        }
      ]
    },
    {
      "cell_type": "code",
      "source": [
        "import time\n",
        "import random\n",
        "import matplotlib.pyplot as plt\n",
        "\n",
        "def generate_random_list(size):\n",
        "    return [random.randint(1, 10000) for _ in range(size)]\n",
        "\n",
        "\n",
        "def measure_sort_time(size):\n",
        "    lst = generate_random_list(size)\n",
        "    start_time = time.time()\n",
        "    lst.sort()\n",
        "    end_time = time.time()\n",
        "    return end_time - start_time\n",
        "\n",
        "sizes = [5000, 10000, 15000, 20000, 25000]\n",
        "times = []\n",
        "\n",
        "for size in sizes:\n",
        "    time_taken = measure_sort_time(size)\n",
        "    times.append(time_taken)\n",
        "    print(f\"Time taken to sort {size} elements: {time_taken:.6f} seconds\")\n",
        "\n",
        "plt.figure(figsize=(10, 6))\n",
        "plt.plot(sizes, times, marker='o', linestyle='-', color='b')\n",
        "plt.xlabel('Number of Elements')\n",
        "plt.ylabel('Time Taken (seconds)')\n",
        "plt.title('Time Taken to Sort Lists of Different Sizes')\n",
        "plt.grid(True)\n",
        "plt.show()"
      ],
      "metadata": {
        "colab": {
          "base_uri": "https://localhost:8080/",
          "height": 651
        },
        "id": "_U7jnB2iqa13",
        "outputId": "cc69d50f-ce6d-4e75-d76c-0259d97abde3"
      },
      "execution_count": 12,
      "outputs": [
        {
          "output_type": "stream",
          "name": "stdout",
          "text": [
            "Time taken to sort 5000 elements: 0.001144 seconds\n",
            "Time taken to sort 10000 elements: 0.002554 seconds\n",
            "Time taken to sort 15000 elements: 0.004311 seconds\n",
            "Time taken to sort 20000 elements: 0.006113 seconds\n",
            "Time taken to sort 25000 elements: 0.007961 seconds\n"
          ]
        },
        {
          "output_type": "display_data",
          "data": {
            "text/plain": [
              "<Figure size 1000x600 with 1 Axes>"
            ],
            "image/png": "[encoded data removed]"
          },
          "metadata": {}
        }
      ]
    },
    {
      "cell_type": "code",
      "source": [
        "students_marks = {\n",
        "    \"Alice\": {\"Math\": 85, \"Science\": 90, \"English\": 88, \"History\": 76, \"Art\": 92},\n",
        "    \"Bob\": {\"Math\": 78, \"Science\": 90, \"English\": 80, \"History\": 74, \"Art\": 68},\n",
        "    \"Charlie\": {\"Math\": 82, \"Science\": 95, \"English\": 90, \"History\": 88, \"Art\": 85},\n",
        "    \"David\": {\"Math\": 70, \"Science\": 72, \"English\": 68, \"History\": 74, \"Art\": 71},\n",
        "    \"Eva\": {\"Math\": 78, \"Science\": 70, \"English\": 89, \"History\": 84, \"Art\": 90}\n",
        "}\n",
        "\n",
        "def calculate_average(marks):\n",
        "    return sum(marks.values()) / len(marks)\n",
        "\n",
        "max_avg_student = None\n",
        "min_avg_student = None\n",
        "max_avg = float('-inf')\n",
        "min_avg = float('inf')\n",
        "\n",
        "for student, marks in students_marks.items():\n",
        "    avg_marks = calculate_average(marks)\n",
        "\n",
        "    if avg_marks > max_avg:\n",
        "        max_avg = avg_marks\n",
        "        max_avg_student = student\n",
        "\n",
        "    if avg_marks < min_avg:\n",
        "        min_avg = avg_marks\n",
        "        min_avg_student = student\n",
        "\n",
        "print(f\"Student with maximum average marks: {max_avg_student} ({max_avg:.2f})\")\n",
        "print(f\"Student with minimum average marks: {min_avg_student} ({min_avg:.2f})\")\n"
      ],
      "metadata": {
        "colab": {
          "base_uri": "https://localhost:8080/"
        },
        "id": "FSlCBGzlqmAz",
        "outputId": "9ae6795f-4040-4430-a1c0-86de4ecb395b"
      },
      "execution_count": 13,
      "outputs": [
        {
          "output_type": "stream",
          "name": "stdout",
          "text": [
            "Student with maximum average marks: Charlie (88.00)\n",
            "Student with minimum average marks: David (71.00)\n"
          ]
        }
      ]
    },
    {
      "cell_type": "code",
      "source": [
        "L = [\"raju\", 1, \"kumar\", 2, \"yadav\", 3]\n",
        "print(\"Original List:\", L)\n",
        "\n",
        "L.sort(key=str)\n",
        "print(\"Sorted List:\", L)"
      ],
      "metadata": {
        "colab": {
          "base_uri": "https://localhost:8080/"
        },
        "id": "LFEgiwqwqz22",
        "outputId": "81b56165-7679-47b3-a8dd-7f33af824d2d"
      },
      "execution_count": 15,
      "outputs": [
        {
          "output_type": "stream",
          "name": "stdout",
          "text": [
            "Original List: ['raju', 1, 'kumar', 2, 'yadav', 3]\n",
            "Sorted List: [1, 2, 3, 'kumar', 'raju', 'yadav']\n"
          ]
        }
      ]
    }
  ]
}